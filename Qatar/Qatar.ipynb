{
 "cells": [
  {
   "cell_type": "markdown",
   "metadata": {},
   "source": [
    "# Qatar\n",
    "\n",
    "This project uses:\n",
    "    * a hyperspectral image of Qatar, and Bahrein \n",
    "    * tests the Optical Flow as a mean to correct for interband & intraband misaligments.\n"
   ]
  },
  {
   "cell_type": "code",
   "execution_count": 4,
   "metadata": {},
   "outputs": [],
   "source": [
    "set_id=\"5996f4d56abf47ca99790a1586c00a09\""
   ]
  },
  {
   "cell_type": "code",
   "execution_count": 5,
   "metadata": {},
   "outputs": [],
   "source": [
    "#add utils functions\n",
    "import sys\n",
    "sys.path.insert(0, '../telluric_util')"
   ]
  },
  {
   "cell_type": "code",
   "execution_count": null,
   "metadata": {},
   "outputs": [
    {
     "name": "stdout",
     "output_type": "stream",
     "text": [
      "Checking for 11 metadata files:\n",
      "5996f4d56abf47ca99790a1586c00a09_connectivity_accuracy_info.json\n",
      "5996f4d56abf47ca99790a1586c00a09_ecef2payload.json\n",
      "5996f4d56abf47ca99790a1586c00a09_geolocation.json\n",
      "5996f4d56abf47ca99790a1586c00a09_telemetry.json\n",
      "large_preview.png\n",
      "preview.png\n",
      "thumbnail.png\n",
      "5996f4d56abf47ca99790a1586c00a09_footprint.json\n",
      "5996f4d56abf47ca99790a1586c00a09_body2payload.json\n",
      "5996f4d56abf47ca99790a1586c00a09_connectivity.json\n",
      "5996f4d56abf47ca99790a1586c00a09_gcps.pickle\n",
      "Checking 31 rasters files:\n",
      "HyperCube_710_nm.tif\n",
      "HyperCube_670_nm.tif\n",
      "HyperCube_595_nm.tif\n"
     ]
    }
   ],
   "source": [
    "#Test data is available, download if not\n",
    "data_dir=\"../data/satellogic/macro/\"\n",
    "\n",
    "import t_auth\n",
    "import importlib\n",
    "importlib.reload(t_auth)\n",
    "\n",
    "import os\n",
    "if not os.path.exists(data_dir):\n",
    "    os.makedirs(data_dir)\n",
    "    \n",
    "#get token for auth\n",
    "token=t_auth.get_token('stanfordhackathon','hack2018')\n",
    "#get scene_id from set_id\n",
    "scene_id=t_auth.set2id(set_id,token)\n",
    "#download what doesn't exist for given scene_id\n",
    "t_auth.download_scene(set_id,token,data_dir)"
   ]
  }
 ],
 "metadata": {
  "kernelspec": {
   "display_name": "Python 3",
   "language": "python",
   "name": "python3"
  },
  "language_info": {
   "codemirror_mode": {
    "name": "ipython",
    "version": 3
   },
   "file_extension": ".py",
   "mimetype": "text/x-python",
   "name": "python",
   "nbconvert_exporter": "python",
   "pygments_lexer": "ipython3",
   "version": "3.6.4"
  }
 },
 "nbformat": 4,
 "nbformat_minor": 2
}

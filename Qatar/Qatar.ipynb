{
 "cells": [
  {
   "cell_type": "markdown",
   "metadata": {},
   "source": [
    "# Qatar\n",
    "\n",
    "This project uses:\n",
    "    * a hyperspectral image of Qatar, and Bahrein \n",
    "    * tests the Optical Flow as a mean to correct for interband & intraband misaligments.\n"
   ]
  },
  {
   "cell_type": "code",
   "execution_count": 1,
   "metadata": {},
   "outputs": [],
   "source": [
    "set_id=\"5996f4d56abf47ca99790a1586c00a09\""
   ]
  },
  {
   "cell_type": "code",
   "execution_count": 2,
   "metadata": {},
   "outputs": [],
   "source": [
    "#add utils functions\n",
    "import sys\n",
    "sys.path.insert(0, '../')"
   ]
  },
  {
   "cell_type": "code",
   "execution_count": 12,
   "metadata": {
    "scrolled": true
   },
   "outputs": [],
   "source": [
    "#Test data is available, download if not\n",
    "data_dir=\"../data/satellogic/macro/\"\n",
    "\n",
    "import telluric_util\n",
    "import importlib\n",
    "importlib.reload(telluric_util)\n",
    "\n",
    "import os\n",
    "if not os.path.exists(data_dir+\"/\"+set_id):    \n",
    "    #get token for auth\n",
    "    token=telluric_util.get_token('stanfordhackathon','hack2018')\n",
    "    #get scene_id from set_id\n",
    "    scene_id=telluric_util.set2id(set_id,token)\n",
    "    #download what doesn't exist for given scene_id\n",
    "    telluric_util.download_scene(set_id,token,data_dir)"
   ]
  },
  {
   "cell_type": "code",
   "execution_count": null,
   "metadata": {},
   "outputs": [],
   "source": []
  }
 ],
 "metadata": {
  "kernelspec": {
   "display_name": "Python 3",
   "language": "python",
   "name": "python3"
  },
  "language_info": {
   "codemirror_mode": {
    "name": "ipython",
    "version": 3
   },
   "file_extension": ".py",
   "mimetype": "text/x-python",
   "name": "python",
   "nbconvert_exporter": "python",
   "pygments_lexer": "ipython3",
   "version": "3.6.4"
  }
 },
 "nbformat": 4,
 "nbformat_minor": 2
}

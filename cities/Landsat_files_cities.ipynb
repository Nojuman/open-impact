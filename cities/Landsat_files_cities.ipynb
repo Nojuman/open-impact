{
 "cells": [
  {
   "cell_type": "markdown",
   "metadata": {},
   "source": [
    "# Landsat files: CITIES\n",
    "\n",
    "In case you want to check Landsat's available datasets on cities, this document offers a useful selection of Landsat images.\n",
    "\n",
    "For downloading Landsat images please access https://earthexplorer.usgs.gov/. "
   ]
  },
  {
   "cell_type": "markdown",
   "metadata": {},
   "source": [
    "# CITIES Seoul\n"
   ]
  },
  {
   "cell_type": "raw",
   "metadata": {},
   "source": [
    "Satellogic:\n",
    "\n",
    "Seoul\t 2017-11-11 \t newsat3_macro_cube_4f64c27bd6404d0e972ca766855b87f6_0_3_48\n",
    "\n",
    "Landsat:\n",
    "\n",
    "Nov 2017:\n",
    "ID:LC08_L1TP_115035_20171107_20171121_01_T1\t\n",
    "ID:LC08_L1TP_116035_20171114_20171122_01_T1\t\t\t\n",
    "ID:LC08_L1TP_116034_20171114_20171122_01_T1\t\t\t\n",
    "ID:LC08_L1TP_116033_20171114_20171122_01_T1\t\t\t\n",
    "ID:LC08_L1TP_114035_20171116_20171122_01_T1\t\t\t\n",
    "ID:LC08_L1TP_114034_20171116_20171122_01_T1\t\t\t\n",
    "                \n",
    "Sep 2015:\n",
    "ID:LC08_L1TP_116034_20150922_20170403_01_T1\t\t\t\n",
    "ID:LC08_L1TP_116035_20150922_20170403_01_T1\t\t\t\n",
    "ID:LC08_L1TP_115033_20150915_20170404_01_T1\t\t\t\n",
    "ID:LC08_L1TP_115034_20150915_20170404_01_T1\t\t\t\n",
    "ID:LC08_L1TP_115035_20150915_20170404_01_T1\t\t\t\n",
    "                \n",
    "Mar - May 2013:\n",
    "ID:LC08_L1TP_115035_20130327_20170505_01_T1\t\t\t\n",
    "ID:LC08_L1TP_115034_20130327_20170505_01_T1\t\t\t\n",
    "ID:LC08_L1TP_116034_20130511_20170504_01_T1\t\t\t\n",
    "                   "
   ]
  },
  {
   "cell_type": "markdown",
   "metadata": {},
   "source": [
    "# CITIES California\n",
    "   "
   ]
  },
  {
   "cell_type": "raw",
   "metadata": {},
   "source": [
    "Satellogic:\n",
    "\n",
    "California\t  2017-10-07 \t  newsat3_macro_cube_1fe65fb54eb742279a8a26\n",
    "\n",
    "Landsat:        \n",
    "        \n",
    "Oct 2017:\n",
    "ID:LC08_L1TP_042035_20171022_20171107_01_T1\t\n",
    "ID:LC08_L1TP_042034_20171022_20171107_01_T1\t\t\t\n",
    "ID:LC08_L1TP_043035_20171013_20171024_01_T1\t\t\t\n",
    "ID:LC08_L1TP_042035_20171006_20171023_01_T1\t\t\t\n",
    "ID:LC08_L1TP_043034_20171013_20171024_01_T1\t\t\t\n",
    "                \n",
    "Oct 2016:\n",
    "ID:LC08_L1TP_042034_20161019_20170219_01_T1\t\t\t\n",
    "ID:LC08_L1TP_043035_20161026_20170219_01_T1\t\t\t\n",
    "ID:LC08_L1TP_043034_20161026_20170219_01_T1\t\t\t\n",
    "ID:LC08_L1TP_042035_20161019_20170219_01_T1\t\t\t\n",
    "                \n",
    "Oct 2015:\n",
    "ID:LC08_L1TP_043035_20151024_20170225_01_T1\t\t\t\n",
    "ID:LC08_L1TP_043034_20151024_20170225_01_T1\t\t\t\n",
    "ID:LC08_L1TP_042034_20151017_20180201_01_T1\t\t\t\n",
    "ID:LC08_L1TP_042035_20151017_20180201_01_T1\t\t\t\n",
    "                \n",
    "Oct 2014:\n",
    "ID:LC08_L1TP_043034_20141021_20170303_01_T1\t\t\t\n",
    "ID:LC08_L1TP_043035_20141021_20170303_01_T1\t\t\t\n",
    "ID:LC08_L1TP_042035_20141014_20170303_01_T1\t\t\t\n",
    "ID:LC08_L1TP_042034_20141014_20170303_01_T1\t\t\t\n",
    "\n",
    "Dec 2013:\n",
    "ID:LC08_L1TP_042034_20131230_20170307_01_T1\t\t\t\n",
    "ID:LC08_L1TP_042035_20131230_20170307_01_T1\t\t\t\n",
    "ID:LC08_L1TP_043034_20131221_20170308_01_T1\t\t\t\n",
    "ID:LC08_L1TP_043035_20131221_20170308_01_T1\t\t\t\n",
    "\n",
    "                \n"
   ]
  },
  {
   "cell_type": "markdown",
   "metadata": {},
   "source": [
    "# CITIES Iran"
   ]
  },
  {
   "cell_type": "raw",
   "metadata": {},
   "source": [
    "\n",
    "Satellogic:\n",
    "    \n",
    "CitiesWB Ahvaz Iran 2018-01-11  \t   2018-01-11 \t   newsat3_macro_cube_0f5ba680c08c46adbde9649858d43df0_0_4_1\n",
    "\n",
    "Landsat:\n",
    "    \n",
    "Jan 2018:\n",
    "ID:LC08_L1TP_166038_20180131_20180207_01_T1\t\n",
    "ID:LC08_L1TP_166039_20180131_20180207_01_T1\t\t\t\n",
    "ID:LC08_L1TP_163038_20180126_20180207_01_T1\t\t\t\n",
    "ID:LC08_L1TP_163039_20180126_20180207_01_T1\t\t\t\n",
    "ID:LC08_L1TP_165038_20180124_20180206_01_T1\t\t\t\n",
    "ID:LC08_L1TP_165039_20180124_20180206_01_T1\t\t\t\n",
    "ID:LC08_L1TP_164037_20180117_20180205_01_T1\t\t\t\n",
    "ID:LC08_L1TP_164039_20180117_20180205_01_T1\t\t\t\n",
    "\n",
    "Jan 2017:\n",
    "ID:LC08_L1TP_164038_20170114_20170311_01_T1\t\t\t\n",
    "ID:LC08_L1TP_164039_20170114_20170311_01_T1\t\t\t\n",
    "ID:LC08_L1TP_166038_20170112_20170311_01_T1\t\t\t\n",
    "ID:LC08_L1TP_166039_20170112_20170311_01_T1\t\t\t\n",
    "ID:LC08_L1TP_165038_20170105_20170312_01_T1\t\t\t\n",
    "ID:LC08_L1TP_165039_20170105_20170312_01_T1\t\t\t\n",
    "\n",
    "Jan 2016:\n",
    "ID:LC08_L1TP_166038_20160110_20170405_01_T1\t\t\t\n",
    "ID:LC08_L1TP_166039_20160110_20170405_01_T1\t\t\t\n",
    "ID:LC08_L1TP_165038_20160103_20170404_01_T1\t\t\t\n",
    "ID:LC08_L1TP_165039_20160103_20170404_01_T1\t\t\t\n",
    "ID:LC08_L1TP_164038_20160128_20170330_01_T1\t\t\t\n",
    "ID:LC08_L1TP_164039_20160128_20170330_01_T1\t\t\t\n",
    "\n",
    "Jan 2015:\n",
    "ID:LC08_L1TP_164038_20150125_20170413_01_T1\t\t\t\n",
    "ID:LC08_L1TP_164039_20150125_20170413_01_T1\t\t\t\n",
    "ID:LC08_L1TP_166038_20150123_20170413_01_T1\t\t\t\n",
    "ID:LC08_L1TP_166039_20150123_20170413_01_T1\t\t\t\n",
    "ID:LC08_L1TP_165038_20150116_20170414_01_T1\t\t\t\n",
    "ID:LC08_L1TP_165039_20150116_20170414_01_T1\t\t\t\n",
    "\n",
    "Jan Feb 2014:\n",
    "ID:LC08_L1TP_166038_20140221_20170425_01_T1\t\t\t\n",
    "ID:LC08_L1TP_166039_20140221_20170425_01_T1\t\t\t\n",
    "ID:LC08_L1TP_165038_20140214_20170425_01_T1\t\t\t\n",
    "ID:LC08_L1TP_165039_20140214_20170425_01_T1\t\t\t\n",
    "ID:LC08_L1TP_164038_20140122_20170426_01_T1\t\t\t\n",
    "ID:LC08_L1TP_164039_20140122_20170426_01_T1\t\t\t\n",
    "\n",
    "Aug 2013:\n",
    "ID:LC08_L1TP_165039_20130822_20170503_01_T1\t\t\t\n",
    "ID:LC08_L1TP_165038_20130822_20170503_01_T1\t\t\t\n",
    "ID:LC08_L1TP_166039_20130829_20170502_01_T1\t\t\t\n",
    "ID:LC08_L1TP_166038_20130829_20170502_01_T1\t\t\t\n",
    "ID:LC08_L1TP_164039_20130831_20170502_01_T1\t\t\t\n",
    "ID:LC08_L1TP_164038_20130831_20170502_01_T1\t\t\t"
   ]
  }
 ],
 "metadata": {
  "kernelspec": {
   "display_name": "Python 3",
   "language": "python",
   "name": "python3"
  },
  "language_info": {
   "codemirror_mode": {
    "name": "ipython",
    "version": 3
   },
   "file_extension": ".py",
   "mimetype": "text/x-python",
   "name": "python",
   "nbconvert_exporter": "python",
   "pygments_lexer": "ipython3",
   "version": "3.6.4"
  }
 },
 "nbformat": 4,
 "nbformat_minor": 2
}

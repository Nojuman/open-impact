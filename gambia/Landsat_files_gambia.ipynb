{
 "cells": [
  {
   "cell_type": "markdown",
   "metadata": {},
   "source": [
    "# Landsat files: GAMBIA\n",
    "\n",
    "In case you want to check Landsat's available datasets on Gambia, this document offers a useful selection of Landsat images.\n",
    "For downloading Landsat images please access https://earthexplorer.usgs.gov/. \n"
   ]
  },
  {
   "cell_type": "raw",
   "metadata": {},
   "source": [
    "\n",
    "Satellogic:\n",
    "\n",
    "macro 2017-11-30\t2017-11-30\t newsat3_macro_cube_295a0a92e413481aad9a6cb785215595_0_3_46\n",
    "\n",
    "Standford Hackaton Gambia 1  \t  2018-01-25 \t newsat3_macro_cube_257e8052c6d94b72ada0b788173791fa_0_4_3\n",
    "\n",
    "Landsat:\n",
    "\n",
    "2017-11-30:\n",
    "ID:LC08_L1TP_203051_20171201_20171207_01_T1\t\n",
    "ID:LC08_L1TP_204050_20171122_20171206_01_T1\t\t\t\n",
    "ID:LC08_L1TP_204051_20171122_20171206_01_T1\t\t\t\n",
    "\n",
    "2018-01-25:\n",
    "ID:LC08_L1TP_204050_20180330_20180330_01_RT\t\n",
    "ID:LC08_L1TP_204051_20180330_20180330_01_RT\t\t\t\n",
    "ID:LC08_L1TP_203050_20180323_20180403_01_T1\t\t\t\n",
    "ID:LC08_L1TP_203051_20180323_20180403_01_T1\t\t\t\n",
    "ID:LC08_L1TP_205050_20180321_20180403_01_T1\t\t\t\n",
    "ID:LC08_L1TP_205051_20180321_20180403_01_T1\t\t\t\n",
    "\n",
    "Dec 2016:\n",
    "ID:LC08_L1TP_205050_20161212_20170316_01_T1\t\t\t\n",
    "ID:LC08_L1TP_205051_20161212_20170316_01_T1\t\t\t\n",
    "ID:LC08_L1TP_204050_20161205_20170317_01_T1\t\t\t\n",
    "ID:LC08_L1TP_204051_20161205_20170317_01_T1\t\t\t\n",
    "\n",
    "Dec 2015:\n",
    "ID:LC08_L1TP_204050_20151203_20170401_01_T1\t\t\t\n",
    "ID:LC08_L1TP_204051_20151203_20170401_01_T1\t\t\t\n",
    "ID:LC08_L1TP_203050_20151126_20170401_01_T1\t\t\t\n",
    "ID:LC08_L1TP_203051_20151126_20170401_01_T1\t\t\t\n",
    "\n",
    "Nov 2014:\n",
    "ID:LC08_L1TP_205050_20141121_20170417_01_T1\t\t\t\n",
    "ID:LC08_L1TP_204050_20141114_20170417_01_T1\t\t\t\n",
    "ID:LC08_L1TP_204051_20141114_20170417_01_T1\t\t\t\n",
    "ID:LC08_L1TP_203050_20141107_20170417_01_T1\t\t\t\n",
    "ID:LC08_L1TP_203051_20141107_20170417_01_T1\t\t\t\n",
    "D:LC08_L1TP_205050_20141105_20170417_01_T1\t\t\t\n",
    "ID:LC08_L1TP_205051_20141105_20170417_01_T1\t\t\t\n",
    "\n",
    "Dec 2013:\n",
    "ID:LC08_L1TP_203051_20131206_20170428_01_T1\t\t\t\n",
    "ID:LC08_L1TP_205050_20131204_20170428_01_T1\t\t\t\n",
    "ID:LC08_L1TP_205051_20131204_20170428_01_T1\t\t\t\n",
    "ID:LC08_L1TP_204050_20131127_20170428_01_T1\t\t\t\n",
    "ID:LC08_L1TP_204051_20131127_20170428_01_T1\t\t\t"
   ]
  }
 ],
 "metadata": {
  "kernelspec": {
   "display_name": "Python 3",
   "language": "python",
   "name": "python3"
  },
  "language_info": {
   "codemirror_mode": {
    "name": "ipython",
    "version": 3
   },
   "file_extension": ".py",
   "mimetype": "text/x-python",
   "name": "python",
   "nbconvert_exporter": "python",
   "pygments_lexer": "ipython3",
   "version": "3.6.4"
  }
 },
 "nbformat": 4,
 "nbformat_minor": 2
}
